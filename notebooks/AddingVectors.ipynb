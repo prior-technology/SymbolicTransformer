{
 "cells": [
  {
   "cell_type": "code",
   "execution_count": 1,
   "metadata": {},
   "outputs": [],
   "source": [
    "using Latexify"
   ]
  },
  {
   "cell_type": "code",
   "execution_count": 3,
   "metadata": {},
   "outputs": [],
   "source": [
    "using SymbolicTransformer"
   ]
  },
  {
   "cell_type": "code",
   "execution_count": 8,
   "metadata": {},
   "outputs": [
    {
     "data": {
      "text/latex": [
       "$LN$"
      ],
      "text/plain": [
       "L\"$LN$\""
      ]
     },
     "metadata": {},
     "output_type": "display_data"
    }
   ],
   "source": [
    "using LinearAlgebra\n",
    "id = Matrix(I,512,512)\n",
    "beta = zeros(512)\n",
    "\n",
    "f = layer_norm(id,beta,1e-5)\n",
    "latexify(f)\n",
    "latexify(LN)"
   ]
  },
  {
   "cell_type": "code",
   "execution_count": 10,
   "metadata": {},
   "outputs": [
    {
     "data": {
      "text/latex": [
       "\\begin{equation}\n",
       "y + x^{2}\n",
       "\\end{equation}\n"
      ],
      "text/plain": [
       "L\"\\begin{equation}\n",
       "y + x^{2}\n",
       "\\end{equation}\n",
       "\""
      ]
     },
     "metadata": {},
     "output_type": "display_data"
    }
   ],
   "source": [
    "using Symbolics\n",
    "@variables x y\n",
    "latexify(x^2 + y)"
   ]
  },
  {
   "cell_type": "code",
   "execution_count": 20,
   "metadata": {},
   "outputs": [
    {
     "data": {
      "text/latex": [
       "\\begin{equation}\n",
       "v1_1 v2_1 + v1_2 v2_2 + v1_3 v2_3 + v1_4 v2_4\n",
       "\\end{equation}\n"
      ],
      "text/plain": [
       "L\"\\begin{equation}\n",
       "v1_1 v2_1 + v1_2 v2_2 + v1_3 v2_3 + v1_4 v2_4\n",
       "\\end{equation}\n",
       "\""
      ]
     },
     "metadata": {},
     "output_type": "display_data"
    }
   ],
   "source": [
    "@variables v1[1:4], v2[1:4]\n",
    "\n",
    "latexify(v1 ⋅ v2)"
   ]
  },
  {
   "cell_type": "code",
   "execution_count": 22,
   "metadata": {},
   "outputs": [
    {
     "data": {
      "text/plain": [
       "LinearAlgebra"
      ]
     },
     "metadata": {},
     "output_type": "display_data"
    }
   ],
   "source": [
    "@which(⋅)"
   ]
  },
  {
   "cell_type": "code",
   "execution_count": 13,
   "metadata": {},
   "outputs": [
    {
     "data": {
      "text/latex": [
       "\\begin{equation}\n",
       "v1_1^{2} + v1_2^{2} + v1_3^{2} + v1_4^{2}\n",
       "\\end{equation}\n"
      ],
      "text/plain": [
       "L\"\\begin{equation}\n",
       "v1_1^{2} + v1_2^{2} + v1_3^{2} + v1_4^{2}\n",
       "\\end{equation}\n",
       "\""
      ]
     },
     "metadata": {},
     "output_type": "display_data"
    }
   ],
   "source": [
    "latexify(v1 ⋅ v1)"
   ]
  },
  {
   "cell_type": "code",
   "execution_count": 15,
   "metadata": {},
   "outputs": [
    {
     "data": {
      "text/latex": [
       "\\begin{equation}\n",
       "\\frac{1}{4} \\left( v1_1 + v1_2 + v1_3 + v1_4 \\right)\n",
       "\\end{equation}\n"
      ],
      "text/plain": [
       "L\"\\begin{equation}\n",
       "\\frac{1}{4} \\left( v1_1 + v1_2 + v1_3 + v1_4 \\right)\n",
       "\\end{equation}\n",
       "\""
      ]
     },
     "metadata": {},
     "output_type": "display_data"
    }
   ],
   "source": [
    "v_id = ones(4)\n",
    "latexify((v1 ⋅ v_id)/4)"
   ]
  },
  {
   "cell_type": "code",
   "execution_count": 19,
   "metadata": {},
   "outputs": [
    {
     "ename": "AssertionError",
     "evalue": "AssertionError: islinear",
     "output_type": "error",
     "traceback": [
      "AssertionError: islinear\n",
      "\n",
      "Stacktrace:\n",
      " [1] solve_for(eq::Equation, var::Num; simplify::Bool, check::Bool)\n",
      "   @ Symbolics C:\\Users\\StephenPrior\\.julia\\packages\\Symbolics\\CNA2l\\src\\linear_algebra.jl:100\n",
      " [2] solve_for(eq::Equation, var::Num)\n",
      "   @ Symbolics C:\\Users\\StephenPrior\\.julia\\packages\\Symbolics\\CNA2l\\src\\linear_algebra.jl:96\n",
      " [3] top-level scope\n",
      "   @ c:\\Users\\StephenPrior\\.julia\\dev\\SymbolicTransformer\\notebooks\\AddingVectors.ipynb:3"
     ]
    }
   ],
   "source": [
    "using Symbolics\n",
    "@variables x, θ\n",
    "Symbolics.solve_for(x ~ cos(θ), θ )"
   ]
  },
  {
   "cell_type": "code",
   "execution_count": null,
   "metadata": {},
   "outputs": [],
   "source": []
  }
 ],
 "metadata": {
  "kernelspec": {
   "display_name": "Julia 1.9.0",
   "language": "julia",
   "name": "julia-1.9"
  },
  "language_info": {
   "file_extension": ".jl",
   "mimetype": "application/julia",
   "name": "julia",
   "version": "1.9.0"
  },
  "orig_nbformat": 4
 },
 "nbformat": 4,
 "nbformat_minor": 2
}
