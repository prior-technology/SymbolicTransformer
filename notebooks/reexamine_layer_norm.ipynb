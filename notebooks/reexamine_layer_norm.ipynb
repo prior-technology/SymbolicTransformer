{
 "cells": [
  {
   "cell_type": "code",
   "execution_count": 32,
   "metadata": {},
   "outputs": [
    {
     "data": {
      "text/plain": [
       "1.0e-5"
      ]
     },
     "metadata": {},
     "output_type": "display_data"
    }
   ],
   "source": [
    "using Symbolics\n",
    "using Latexify\n",
    "using Line\n",
    "\n",
    "include(\"../data/probe_token.jl\")\n",
    "include(\"../data/pre_norm.jl\")\n",
    "\n",
    "N=512\n",
    "\n",
    "μ(x) = sum(x) / N\n",
    "E(x) = μ(x) \n",
    "\n",
    "c(x) = x .- μ(x)\n",
    "\n",
    "#var(x) = sum(c(x) .^2 )\n",
    "#var(x) = sum((x .- μ(x)) .^2 )\n",
    "var(x) = sum((x .- μ(x)) .^2 )/N\n",
    "\n",
    "ϵ = 1e-5\n",
    "\n"
   ]
  },
  {
   "attachments": {},
   "cell_type": "markdown",
   "metadata": {},
   "source": [
    "[ReExaminingLayerNorm.ipynb](https://colab.research.google.com/drive/1S39-w4vzX3VzZx_27X_BtrLs442pOJnJ) (also [described on LessWrong](https://www.lesswrong.com/posts/jfG6vdJZCwTQmG7kb/re-examining-layernorm) ) describes the following as definition for layer-norm from PyTorch"
   ]
  },
  {
   "cell_type": "code",
   "execution_count": 33,
   "metadata": {},
   "outputs": [
    {
     "data": {
      "text/plain": [
       "LN (generic function with 1 method)"
      ]
     },
     "metadata": {},
     "output_type": "display_data"
    }
   ],
   "source": [
    "LN(x) = (x .- E(x))/sqrt(var(x) + ϵ) \n"
   ]
  },
  {
   "attachments": {},
   "cell_type": "markdown",
   "metadata": {},
   "source": [
    "If it is equivalent this should return 11.4077"
   ]
  },
  {
   "cell_type": "code",
   "execution_count": 34,
   "metadata": {},
   "outputs": [
    {
     "data": {
      "text/plain": [
       "11.407851912178797"
      ]
     },
     "metadata": {},
     "output_type": "display_data"
    }
   ],
   "source": [
    "bias = 0.8328\n",
    "\n",
    "final_residual = LN(pre_norm)\n",
    "\n",
    "logit = sum(.*(probe_token, final_residual)) + bias\n"
   ]
  },
  {
   "attachments": {},
   "cell_type": "markdown",
   "metadata": {},
   "source": [
    "Following the notebook"
   ]
  },
  {
   "cell_type": "code",
   "execution_count": 37,
   "metadata": {},
   "outputs": [
    {
     "data": {
      "text/plain": [
       "u_ϵ (generic function with 1 method)"
      ]
     },
     "metadata": {},
     "output_type": "display_data"
    }
   ],
   "source": [
    "norm(x) = sqrt(sum(x .^ 2))\n",
    "u_ϵ(x) = x .* (1/sqrt(norm(x)^2 + ϵ) )"
   ]
  },
  {
   "attachments": {},
   "cell_type": "markdown",
   "metadata": {},
   "source": [
    "$$\\sqrt{n} \\cdot u_{n \\epsilon}(x) = \\frac{x}{\\sqrt{\\textrm{Var}[x] + \\epsilon}}$$"
   ]
  },
  {
   "cell_type": "code",
   "execution_count": 38,
   "metadata": {},
   "outputs": [
    {
     "data": {
      "text/plain": [
       "11.40785559974425"
      ]
     },
     "metadata": {},
     "output_type": "display_data"
    }
   ],
   "source": [
    "final_residual = sqrt(512) .* u_ϵ(pre_norm)\n",
    "\n",
    "\n",
    "logit = sum(.*(probe_token, final_residual)) + bias"
   ]
  },
  {
   "attachments": {},
   "cell_type": "markdown",
   "metadata": {},
   "source": [
    "$$LN = \\sqrt{n} \\cdot U_{n \\epsilon}(c(x))$$"
   ]
  },
  {
   "cell_type": "code",
   "execution_count": 40,
   "metadata": {},
   "outputs": [
    {
     "data": {
      "text/plain": [
       "11.407851912178797"
      ]
     },
     "metadata": {},
     "output_type": "display_data"
    }
   ],
   "source": [
    "u_nϵ(x) = x .* (1/sqrt(norm(x)^2 + (512*ϵ)) )\n",
    "\n",
    "\n",
    "final_residual = sqrt(512) .* u_nϵ(c(pre_norm))\n",
    "\n",
    "\n",
    "logit = sum(.*(probe_token, final_residual)) + bias"
   ]
  },
  {
   "attachments": {},
   "cell_type": "markdown",
   "metadata": {},
   "source": [
    "The standard definition of $mean(v) = \\mu(v)$ is:\n",
    "\n",
    "$$\\mu(v) = \\frac{sum(v)}{N}$$\n",
    "where $sum(v)$ is the sum over components of v, and $N$ is number of components of $v$, which results in a scalar value.\n",
    "\n",
    "This can be stated using the dot product with the vector $\\vec{1} = \\{ 1,1,1,...1 \\}$: $$\\mu(v) = \\frac{<\\vec{1},v>}{N}$$"
   ]
  },
  {
   "attachments": {},
   "cell_type": "markdown",
   "metadata": {},
   "source": [
    "The centering operation deducts $\\mu(v)$ from each component of $v$:\n",
    "$$c(v) = v - μ(v) \\vec{1}$$"
   ]
  },
  {
   "attachments": {},
   "cell_type": "markdown",
   "metadata": {},
   "source": [
    "Going back to the earlier definition\n",
    "\n",
    "$$LN = \\sqrt{N}  u_{N \\epsilon}(c(v))$$\n",
    "\n",
    "In terms of Geometric Algebra $<u,v>  = \\frac{1}{2} (uv + vu)$ so we can rewrite\n",
    "\n",
    "$$c(v) = v - \\frac{<\\vec{1} , v>}{N} \\vec{1}\n",
    "= v - (\\frac{\\vec{1} v + v \\vec{1}}{2N}) \\vec{1}$$\n",
    "\n",
    "Can we go as far as this?\n",
    "$$ = v - \\frac{\\vec{1} v \\vec{1} + v |\\vec{1}|^2}{2N}$$\n",
    "$$ = v - \\frac{\\vec{1}v\\vec{1}}{2N} - \\frac{N}{2N}v$$\n",
    "$$ = \\frac{1}{2}v - \\frac{1}{2N} \\vec{1}v\\vec{1}$$\n",
    "\n",
    "This is checked for N=4 in [center.ipynb](../geometry/center.ipynb)\n"
   ]
  },
  {
   "attachments": {},
   "cell_type": "markdown",
   "metadata": {},
   "source": [
    "Expand"
   ]
  },
  {
   "attachments": {},
   "cell_type": "markdown",
   "metadata": {},
   "source": [
    "$$<c(v), c(v)> = \\frac{1}{4}v^2 - \\frac{1}{4N}v\\vec{1}v\\vec{1} - \\frac{1}{4N}\\vec{1}v\\vec{1}v + \\frac{1}{4N^2} \\vec{1} v \\vec{1} \\vec{1} v \\vec{1}$$\n",
    "\n"
   ]
  },
  {
   "attachments": {},
   "cell_type": "markdown",
   "metadata": {},
   "source": [
    "But $$\\vec{1} v \\vec{1} \\vec{1} v \\vec{1} = N \\vec{1} v v \\vec{1} = N |v|^2 \\vec{1}\\vec{1} = N^2 |v|^2$$ \n",
    "So\n",
    "$$ <c(v), c(v)> = \\frac{1}{4} |v|^2 - \\frac{1}{4N} |v \\vec{1}|^2 - \\frac{1}{4N} |\\vec{1} v |^2 + \\frac{1}{4} |v|^2 $$\n",
    "$$ = \\frac{1}{2} |v|^2 - \\frac{1}{4N} |v \\vec{1}|^2 - \\frac{1}{4N} |\\vec{1} v |^2  $$\n"
   ]
  },
  {
   "attachments": {},
   "cell_type": "markdown",
   "metadata": {},
   "source": [
    "\n",
    "$$u_{\\epsilon}(v) = \\frac{v}{\\sqrt{<v,v> + \\epsilon} }$$\n",
    "\n",
    "$$u_\\epsilon (c(v)) = \\frac{\\frac{1}{2}v - \\frac{1}{2N} \\vec{1}v\\vec{1}}{\\sqrt{\\frac{1}{2} |v|^2 - \\frac{1}{4N} |v \\vec{1}|^2 - \\frac{1}{4N} |\\vec{1} v |^2  + \\epsilon}}$$\n",
    "\n",
    "Low confidence in this - I haven't checked it, and it might simplify to something obvious.\n",
    "\n",
    "Next steps - use $u_\\epsilon$ formula above in LN through projection matrices for attention heads."
   ]
  },
  {
   "attachments": {},
   "cell_type": "markdown",
   "metadata": {},
   "source": [
    "## Other Notes\n",
    "\n",
    "$$μ(v) = \\frac{ <v , \\vec{1}> }{N}$$\n",
    "\n",
    "But since $|\\vec{1}| = \\sqrt{N}$  \n",
    "$$μ(v) =  \\frac{ |v| \\sqrt{N} \\cos{\\theta_{v,\\vec{1}}}}{N}   \n",
    "    = \\frac{|v| \\cos{\\theta_{v,\\vec{1}}}}{\\sqrt{N}} $$\n",
    "\n",
    "where $\\theta_{v,\\vec{1}}$ is the angle between $v$ and $\\vec{1}$\n",
    "\n",
    "Applying layer normalization results in a vector of approx unit length, in the direction of the centered vector.\n",
    "\n",
    "$$LN(v) = \\sqrt{N} u_{N \\epsilon}(c(v))$$\n",
    "\n",
    "The inner product between 2 vectors $a$ and $b$, with LN applied to the second\n",
    "$$< a, LN b> \\approx |a| \\cos{\\theta_{a,c(b)}} $$\n",
    "\n",
    "If $b$ is understood as the sum of several vectors, they can be analysed in terms of\n",
    "how they contribute to the angle of the centered vector."
   ]
  },
  {
   "attachments": {},
   "cell_type": "markdown",
   "metadata": {},
   "source": []
  },
  {
   "attachments": {},
   "cell_type": "markdown",
   "metadata": {},
   "source": []
  }
 ],
 "metadata": {
  "kernelspec": {
   "display_name": "Julia 1.9.0",
   "language": "julia",
   "name": "julia-1.9"
  },
  "language_info": {
   "file_extension": ".jl",
   "mimetype": "application/julia",
   "name": "julia",
   "version": "1.9.0"
  },
  "orig_nbformat": 4
 },
 "nbformat": 4,
 "nbformat_minor": 2
}
