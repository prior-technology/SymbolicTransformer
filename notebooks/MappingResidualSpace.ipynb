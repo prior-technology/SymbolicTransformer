{
 "cells": [
  {
   "cell_type": "markdown",
   "metadata": {},
   "source": [
    "# Mapping Residual Space\n",
    "\n",
    "Logit Lens and Tuned Lens show a representation of the residual space of a transformer based on the unembedding vectors for tokens. Both show that this representation is in some way meaningful beyond the first/last layers. [A Mathematical Framework for Transformer Circuits](https://transformer-circuits.pub/2021/framework/index.html) indicates that this representation may approximate the bigram log-likelihood for tokens. \n",
    "\n",
    "The residual space is also shaped by the training goals of attracting attention from later layers, and of contributing to the residual space in later layers. "
   ]
  },
  {
   "cell_type": "markdown",
   "metadata": {},
   "source": [
    "Output vectors are in a high dimensional space (512 for the small Pythia-70m model). Due to the high number of dimensions, random vectors will be orthoganal to each other. \n"
   ]
  },
  {
   "cell_type": "markdown",
   "metadata": {},
   "source": [
    "import torch\n",
    "# Assuming you have a tensor named 'tensor' of size [n]\n",
    "mean = torch.mean(tensor)\n",
    "std = torch.std(tensor)\n"
   ]
  },
  {
   "cell_type": "code",
   "execution_count": null,
   "metadata": {
    "vscode": {
     "languageId": "plaintext"
    }
   },
   "outputs": [],
   "source": [
    "random_tensor = torch.randn_like(tensor) * std + mean\n"
   ]
  },
  {
   "cell_type": "code",
   "execution_count": null,
   "metadata": {
    "vscode": {
     "languageId": "plaintext"
    }
   },
   "outputs": [],
   "source": [
    "torch.dot(v1,v2)\n"
   ]
  },
  {
   "cell_type": "code",
   "execution_count": null,
   "metadata": {
    "vscode": {
     "languageId": "plaintext"
    }
   },
   "outputs": [],
   "source": [
    "import matplotlib.pyplot as plt\n",
    "import numpy as np\n",
    "\n",
    "# Define the two vectors\n",
    "v1 = np.array([3, 4])\n",
    "v2 = np.array([1, 2])\n",
    "\n",
    "# Calculate the dot product\n",
    "dot_product = np.dot(v1, v2)\n",
    "\n",
    "# Calculate the magnitudes of the vectors\n",
    "magnitude_v1 = np.linalg.norm(v1)\n",
    "magnitude_v2 = np.linalg.norm(v2)\n",
    "\n",
    "# Calculate the angle between the vectors in radians\n",
    "angle_rad = np.arccos(dot_product / (magnitude_v1 * magnitude_v2))\n",
    "\n",
    "# Convert the angle to degrees\n",
    "angle_deg = np.degrees(angle_rad)\n",
    "\n",
    "# Create a plot\n",
    "fig, ax = plt.subplots()\n",
    "\n",
    "# Plot the vectors\n",
    "ax.quiver(0, 0, v1[0], v1[1], angles='xy', scale_units='xy', scale=1, color='r', label='v1')\n",
    "ax.quiver(0, 0, v2[0], v2[1], angles='xy', scale_units='xy', scale=1, color='b', label='v2')\n",
    "\n",
    "# Set the x and y limits\n",
    "ax.set_xlim([-1, 4])\n",
    "ax.set_ylim([-1, 4])\n",
    "\n",
    "# Add a legend\n",
    "ax.legend()\n",
    "\n",
    "# Add a title\n",
    "ax.set_title(f\"Angle between v1 and v2: {angle_deg:.2f} degrees\")\n",
    "\n",
    "# Show the plot\n",
    "plt.show()\n"
   ]
  },
  {
   "cell_type": "code",
   "execution_count": null,
   "metadata": {
    "vscode": {
     "languageId": "plaintext"
    }
   },
   "outputs": [],
   "source": []
  }
 ],
 "metadata": {
  "language_info": {
   "name": "python"
  },
  "orig_nbformat": 4
 },
 "nbformat": 4,
 "nbformat_minor": 2
}
