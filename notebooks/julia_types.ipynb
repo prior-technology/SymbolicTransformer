{
 "cells": [
  {
   "cell_type": "code",
   "execution_count": 4,
   "metadata": {},
   "outputs": [
    {
     "data": {
      "text/plain": [
       "SomeFunction (generic function with 1 method)"
      ]
     },
     "metadata": {},
     "output_type": "display_data"
    }
   ],
   "source": [
    "struct SomeType\n",
    "    x::Int64\n",
    "end\n",
    "\n",
    "struct OtherType\n",
    "    x::Int64\n",
    "end\n",
    "\n",
    "function SomeFunction(a)    \n",
    "    OtherType(a.x + 1)\n",
    "end\n"
   ]
  },
  {
   "cell_type": "code",
   "execution_count": 6,
   "metadata": {},
   "outputs": [
    {
     "data": {
      "text/plain": [
       "OtherType(9)"
      ]
     },
     "metadata": {},
     "output_type": "display_data"
    }
   ],
   "source": [
    "n1 = SomeType(8)\n",
    "\n",
    "out = SomeFunction(n1)"
   ]
  },
  {
   "cell_type": "code",
   "execution_count": 9,
   "metadata": {},
   "outputs": [
    {
     "data": {
      "text/plain": [
       "SomeFunction (generic function with 2 methods)"
      ]
     },
     "metadata": {},
     "output_type": "display_data"
    }
   ],
   "source": [
    "function SomeFunction(b::OtherType)\n",
    "    SomeType(-b.x)\n",
    "end\n"
   ]
  },
  {
   "cell_type": "code",
   "execution_count": 10,
   "metadata": {},
   "outputs": [
    {
     "data": {
      "text/plain": [
       "SomeType(-9)"
      ]
     },
     "metadata": {},
     "output_type": "display_data"
    }
   ],
   "source": [
    "SomeFunction(out)"
   ]
  },
  {
   "cell_type": "code",
   "execution_count": 11,
   "metadata": {},
   "outputs": [
    {
     "ename": "ErrorException",
     "evalue": "type Int64 has no field x",
     "output_type": "error",
     "traceback": [
      "type Int64 has no field x\n",
      "\n",
      "Stacktrace:\n",
      " [1] getproperty\n",
      "   @ .\\Base.jl:37 [inlined]\n",
      " [2] SomeFunction(a::Int64)\n",
      "   @ Main c:\\Users\\StephenPrior\\.julia\\dev\\SymbolicTransformer\\notebooks\\julia_types.ipynb:10\n",
      " [3] top-level scope\n",
      "   @ c:\\Users\\StephenPrior\\.julia\\dev\\SymbolicTransformer\\notebooks\\julia_types.ipynb:1"
     ]
    }
   ],
   "source": [
    "SomeFunction(12)"
   ]
  },
  {
   "cell_type": "code",
   "execution_count": null,
   "metadata": {},
   "outputs": [],
   "source": []
  }
 ],
 "metadata": {
  "kernelspec": {
   "display_name": "Julia 1.9.0",
   "language": "julia",
   "name": "julia-1.9"
  },
  "language_info": {
   "file_extension": ".jl",
   "mimetype": "application/julia",
   "name": "julia",
   "version": "1.9.0"
  },
  "orig_nbformat": 4
 },
 "nbformat": 4,
 "nbformat_minor": 2
}
