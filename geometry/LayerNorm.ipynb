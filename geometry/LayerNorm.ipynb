{
 "cells": [
  {
   "attachments": {},
   "cell_type": "markdown",
   "metadata": {},
   "source": [
    "Standard definitions:\n",
    "\n",
    "$$c(x)=x-\\mu(x).$$\n",
    "$$u_\\epsilon(x)=\\frac{x}{\\sqrt{||x||^2+\\epsilon}}.$$ \n",
    "$$\\mathrm{E}[x]=\\mu(x)=\\frac{1}{n}\\sum_{i=1}^nx_i$$\n",
    "$$\\mathrm{Var}[x]=\\sigma^2(x)=\\frac{1}{n}\\sum_{i=1}^n (x_i-\\mu(x_i))^2.$$\n",
    "\n",
    "Pytorch Layer Norm:\n",
    "$$LN = \\frac{x-\\textrm{E}[x]}{\\sqrt{\\textrm{Var}[x]+\\epsilon}}*\\gamma+\\beta.$$\n",
    "\n",
    "Reformulated Layer Norm:\n",
    "$$LN = \\sqrt{n} \\cdot U_{n \\epsilon}(c(x))$$\n"
   ]
  },
  {
   "cell_type": "code",
   "execution_count": 1,
   "metadata": {},
   "outputs": [
    {
     "data": {
      "text/plain": [
       "4-element Vector{Float64}:\n",
       "  0.48336788312641876\n",
       " -0.29002072987585126\n",
       " -1.4501036493792563\n",
       "  1.2567564961286888"
      ]
     },
     "metadata": {},
     "output_type": "display_data"
    }
   ],
   "source": [
    "using Symbolics\n",
    "using SymbolicTransformer\n",
    "v = [3,1,-2,5]\n",
    "LN(v)"
   ]
  },
  {
   "attachments": {},
   "cell_type": "markdown",
   "metadata": {},
   "source": [
    "Writing these in terms of operations between vectors rather than operations on euclidean vector components:\n",
    "\n",
    "$$c(\\vec{x})=\\vec{x}-\\mu(\\vec{x})=\\vec{x}-\\frac{1}{n} \\vec{x} \\cdot \\vec{1}$$\n",
    "\n",
    "$$u_\\epsilon(\\vec{x})=\\frac{\\vec{x}}{\\sqrt{||\\vec{x}||^2+\\epsilon}}$$"
   ]
  },
  {
   "cell_type": "code",
   "execution_count": 1,
   "metadata": {},
   "outputs": [],
   "source": [
    "using Symbolics\n",
    "using Grassmann"
   ]
  },
  {
   "cell_type": "code",
   "execution_count": 9,
   "metadata": {},
   "outputs": [
    {
     "data": {
      "text/latex": [
       "$$ \\begin{equation}\n",
       "\\frac{a + \\frac{ - a ones}{n}}{\\sqrt{1 \\cdot 10^{-6} + \\left( a + \\frac{ - a ones}{n} \\right)^{2}}}\n",
       "\\end{equation}\n",
       " $$"
      ],
      "text/plain": [
       "(a + (-a*ones) / n) / sqrt(1.0e-6 + (a + (-a*ones) / n)^2)"
      ]
     },
     "metadata": {},
     "output_type": "display_data"
    }
   ],
   "source": [
    "@variables ones::Number, n::Integer, a1::Number, a2::Number, b::Number\n",
    "ϵ = 1e-6\n",
    "\n",
    "function ⋅(x,y)\n",
    "    return (1/2)*(x*y + y*x)\n",
    "end\n",
    "\n",
    "function c(x)\n",
    "    return x - ((x ⋅ ones) * (1/n))    \n",
    "end\n",
    "\n",
    "function u_ϵ(x)\n",
    "    return x / sqrt(x ⋅ x + ϵ)\n",
    "end\n",
    "\n",
    "u_ϵ(c(a))"
   ]
  },
  {
   "cell_type": "code",
   "execution_count": 10,
   "metadata": {},
   "outputs": [
    {
     "data": {
      "text/latex": [
       "$$ \\begin{equation}\n",
       "\\frac{b \\left( a1 + a2 + \\frac{ - ones \\left( a1 + a2 \\right)}{n} \\right)}{\\sqrt{1 \\cdot 10^{-6} + \\left( a1 + a2 + \\frac{ - ones \\left( a1 + a2 \\right)}{n} \\right)^{2}}}\n",
       "\\end{equation}\n",
       " $$"
      ],
      "text/plain": [
       "(b*(a1 + a2 + (-ones*(a1 + a2)) / n)) / sqrt(1.0e-6 + (a1 + a2 + (-ones*(a1 + a2)) / n)^2)"
      ]
     },
     "metadata": {},
     "output_type": "display_data"
    }
   ],
   "source": [
    "(b) ⋅ (u_ϵ(c(a1 + a2)))"
   ]
  },
  {
   "cell_type": "code",
   "execution_count": null,
   "metadata": {},
   "outputs": [],
   "source": []
  }
 ],
 "metadata": {
  "kernelspec": {
   "display_name": "Julia 1.9.0",
   "language": "julia",
   "name": "julia-1.9"
  },
  "language_info": {
   "file_extension": ".jl",
   "mimetype": "application/julia",
   "name": "julia",
   "version": "1.9.0"
  },
  "orig_nbformat": 4
 },
 "nbformat": 4,
 "nbformat_minor": 2
}
