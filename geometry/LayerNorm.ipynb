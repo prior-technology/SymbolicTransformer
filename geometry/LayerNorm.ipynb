{
 "cells": [
  {
   "cell_type": "markdown",
   "metadata": {},
   "source": [
    "This notebook compares the standard definition of Layer Norm with one based on GA."
   ]
  },
  {
   "attachments": {},
   "cell_type": "markdown",
   "metadata": {},
   "source": [
    "Standard definitions:\n",
    "\n",
    "$$c(x)=x-\\mu(x).$$\n",
    "$$u_\\epsilon(x)=\\frac{x}{\\sqrt{||x||^2+\\epsilon}}.$$ \n",
    "$$\\mathrm{E}[x]=\\mu(x)=\\frac{1}{n}\\sum_{i=1}^nx_i$$\n",
    "$$\\mathrm{Var}[x]=\\sigma^2(x)=\\frac{1}{n}\\sum_{i=1}^n (x_i-\\mu(x_i))^2.$$\n",
    "Pytorch Layer Norm:\n",
    "$$LN = \\frac{x-\\textrm{E}[x]}{\\sqrt{\\textrm{Var}[x]+\\epsilon}}*\\gamma+\\beta.$$\n"
   ]
  },
  {
   "cell_type": "code",
   "execution_count": 6,
   "metadata": {},
   "outputs": [
    {
     "data": {
      "text/plain": [
       "4-element Vector{Int64}:\n",
       "  26\n",
       " -10\n",
       "  -5\n",
       "  41"
      ]
     },
     "metadata": {},
     "output_type": "display_data"
    }
   ],
   "source": [
    "using Random\n",
    "\n",
    "N=4\n",
    "\n",
    "#Initialise a random v element vector\n",
    "Random.seed!(42)\n",
    "u = Vector{Int}(undef,N)\n",
    "rand!(u,-100:100)\n",
    "u"
   ]
  },
  {
   "cell_type": "code",
   "execution_count": 7,
   "metadata": {},
   "outputs": [
    {
     "data": {
      "text/plain": [
       "4-element Vector{Float64}:\n",
       "  0.6118070401602436\n",
       " -1.0824278402835077\n",
       " -0.8471174402218756\n",
       "  1.3177382403451399"
      ]
     },
     "metadata": {},
     "output_type": "display_data"
    }
   ],
   "source": [
    "using SymbolicTransformer\n",
    "\n",
    "LN(u)"
   ]
  },
  {
   "attachments": {},
   "cell_type": "markdown",
   "metadata": {},
   "source": [
    "From [reexamine_layer_norm.ipynb](../notebooks/reexamine_layer_norm.ipynb) we have:\n",
    "\n",
    "$$c(v) = \\frac{1}{2}v - \\frac{1}{2N} \\vec{1}v\\vec{1}$$\n",
    "\n",
    "$$u_\\epsilon(\\vec{x})=\\frac{\\vec{x}}{\\sqrt{||\\vec{x}||^2+\\epsilon}}$$\n",
    "\n",
    "$$LN = \\sqrt{n} U_{n \\epsilon}(c(x))$$"
   ]
  },
  {
   "cell_type": "code",
   "execution_count": 8,
   "metadata": {},
   "outputs": [
    {
     "data": {
      "text/plain": [
       "c (generic function with 1 method)"
      ]
     },
     "metadata": {},
     "output_type": "display_data"
    }
   ],
   "source": [
    "using Grassmann\n",
    "\n",
    "@basis S\"++++\"\n",
    "\n",
    "ones = v₁ + v₂ + v₃ + v₄\n",
    "\n",
    "c(x) = (1/2) * x - (1/8)*(ones * x * ones)"
   ]
  },
  {
   "cell_type": "code",
   "execution_count": 9,
   "metadata": {},
   "outputs": [
    {
     "data": {
      "text/plain": [
       "ga_LN (generic function with 1 method)"
      ]
     },
     "metadata": {},
     "output_type": "display_data"
    }
   ],
   "source": [
    "\n",
    "ϵ = 1e-6*N\n",
    "\n",
    "u_Nϵ(x) = x * (1 / sqrt(x ⋅ x + ϵ))\n",
    "ga_LN(x) = sqrt(N) * u_Nϵ(c(x))"
   ]
  },
  {
   "cell_type": "code",
   "execution_count": 10,
   "metadata": {},
   "outputs": [
    {
     "data": {
      "text/plain": [
       "0 + 26v₁ - 10v₂ - 5v₃ + 41v₄"
      ]
     },
     "metadata": {},
     "output_type": "display_data"
    }
   ],
   "source": [
    "ga_u = u ⋅ [v₁, v₂, v₃, v₄]"
   ]
  },
  {
   "cell_type": "code",
   "execution_count": 11,
   "metadata": {},
   "outputs": [
    {
     "data": {
      "text/plain": [
       "4-element Vector{Float64}:\n",
       "  0.6118070401602436\n",
       " -1.0824278402835077\n",
       " -0.8471174402218756\n",
       "  1.3177382403451399"
      ]
     },
     "metadata": {},
     "output_type": "display_data"
    }
   ],
   "source": [
    "LN(u)"
   ]
  },
  {
   "cell_type": "code",
   "execution_count": 12,
   "metadata": {},
   "outputs": [
    {
     "data": {
      "text/plain": [
       "0.0 + 0.6118070462579881v₁ - 1.082427851071825v₂ - 0.8471174486649066v₃ + 1.3177382534787434v₄"
      ]
     },
     "metadata": {},
     "output_type": "display_data"
    }
   ],
   "source": [
    "ga_LN(ga_u)"
   ]
  },
  {
   "cell_type": "markdown",
   "metadata": {},
   "source": [
    "$$u_\\epsilon (c(v)) = \\frac{\\frac{1}{2}v - \\frac{1}{2N} \\vec{1}v\\vec{1}}{\\sqrt{\\frac{1}{2} |v|^2 - \\frac{1}{4N} |v \\vec{1}|^2 - \\frac{1}{4N} |\\vec{1} v |^2  + \\epsilon}}$$\n",
    "\n",
    "$$LN(v) = \\sqrt{n} \\frac{\\frac{1}{2}v - \\frac{1}{2N} \\vec{1} v \\vec{1}}\n",
    "{\\sqrt{\\frac{1}{2} |v|^2 - \\frac{1}{4N} |v \\vec{1}|^2 - \\frac{1}{4N} |\\vec{1} v |^2  + n * \\epsilon}}$$\n"
   ]
  },
  {
   "cell_type": "code",
   "execution_count": 18,
   "metadata": {},
   "outputs": [
    {
     "data": {
      "text/plain": [
       "ga_LN2 (generic function with 1 method)"
      ]
     },
     "metadata": {},
     "output_type": "display_data"
    }
   ],
   "source": [
    "scale(x) = sqrt(N) / sqrt( (1/2) * (x ⋅ x) - (1/(4*N)) * ((v * ones) ⋅ (v * ones)) - (1/(4*N)) * ((ones * v) ⋅ ( ones * v)) + N * ϵ )\n",
    "direction(x) = (1/2) * x - (1/(2*N)) * (ones * v * ones)\n",
    "ga_LN2(x) = scale(x) * direction(x)"
   ]
  },
  {
   "cell_type": "code",
   "execution_count": 19,
   "metadata": {},
   "outputs": [
    {
     "data": {
      "text/plain": [
       "-0.02839236783843104 + 0.7382015637992071v₁ - 0.28392367838431043v₂ - 0.14196183919215521v₃ + 1.1640870813756727v₄"
      ]
     },
     "metadata": {},
     "output_type": "display_data"
    }
   ],
   "source": [
    "ga_LN2(ga_u)"
   ]
  },
  {
   "cell_type": "code",
   "execution_count": 15,
   "metadata": {},
   "outputs": [
    {
     "data": {
      "text/plain": [
       "0.05678473567686208v"
      ]
     },
     "metadata": {},
     "output_type": "display_data"
    }
   ],
   "source": [
    "scale(ga_u)"
   ]
  },
  {
   "cell_type": "code",
   "execution_count": 16,
   "metadata": {},
   "outputs": [
    {
     "data": {
      "text/plain": [
       "0.04706208032503127"
      ]
     },
     "metadata": {},
     "output_type": "display_data"
    }
   ],
   "source": [
    "#from LayerNormalization.jl\n",
    "μ(v) = sum(v)/size(v,1)\n",
    "(μ((u .- μ(u)).^2) + ϵ).^(-0.5)"
   ]
  },
  {
   "cell_type": "code",
   "execution_count": null,
   "metadata": {},
   "outputs": [],
   "source": []
  }
 ],
 "metadata": {
  "kernelspec": {
   "display_name": "Julia 1.9.0",
   "language": "julia",
   "name": "julia-1.9"
  },
  "language_info": {
   "file_extension": ".jl",
   "mimetype": "application/julia",
   "name": "julia",
   "version": "1.9.0"
  },
  "orig_nbformat": 4
 },
 "nbformat": 4,
 "nbformat_minor": 2
}
