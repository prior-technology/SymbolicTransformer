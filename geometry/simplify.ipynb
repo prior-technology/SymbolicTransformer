{
 "cells": [
  {
   "cell_type": "markdown",
   "metadata": {},
   "source": [
    "\n",
    "$$LN(v) = \\sqrt{n} \\frac{\\frac{1}{2}v - \\frac{1}{2N} \\vec{1} v \\vec{1}}\n",
    "{\\sqrt{\\frac{1}{2} |v|^2 - \\frac{1}{4N} |v \\vec{1}|^2 - \\frac{1}{4N} |\\vec{1} v |^2  + n * \\epsilon}}$$"
   ]
  },
  {
   "cell_type": "markdown",
   "metadata": {},
   "source": [
    "\n",
    "$$\\sqrt{n} \\frac{\\frac{1}{2}a - \\frac{1}{2N} b}\n",
    "{\\sqrt{\\frac{1}{2} d1 - \\frac{1}{4N} d2 - \\frac{1}{4N} d3  + d4}}$$"
   ]
  },
  {
   "cell_type": "code",
   "execution_count": 5,
   "metadata": {},
   "outputs": [
    {
     "data": {
      "text/latex": [
       "$$ \\begin{equation}\n",
       "\\frac{\\left( 0.5 a + \\frac{ - b}{2 n} \\right) \\sqrt{n}}{\\sqrt{d4 + 0.5 d1 + \\frac{ - d2}{4 n} + \\frac{ - d3}{4 n}}}\n",
       "\\end{equation}\n",
       " $$"
      ],
      "text/plain": [
       "((0.5a + (-b) / (2n))*sqrt(n)) / sqrt(d4 + 0.5d1 + (-d2) / (4n) + (-d3) / (4n))"
      ]
     },
     "metadata": {},
     "output_type": "display_data"
    }
   ],
   "source": [
    "using Symbolics\n",
    "\n",
    "@variables a b c d1 d2 d3 d4 n\n",
    "\n",
    "sqrt(n) * (((1/2) * a - (1/(2*n))*b))/(sqrt((1/2)d1 - (1/(4*n))*d2 - (1/(4*n))*d3 +d4))"
   ]
  },
  {
   "cell_type": "code",
   "execution_count": 6,
   "metadata": {},
   "outputs": [
    {
     "data": {
      "text/latex": [
       "$$ \\begin{equation}\n",
       "\\frac{2 \\left(  - \\frac{1}{8} b + 0.5 a \\right)}{\\sqrt{d4 + 0.5 d1 - \\frac{1}{16} d2 - \\frac{1}{16} d3}}\n",
       "\\end{equation}\n",
       " $$"
      ],
      "text/plain": [
       "(2.0(0.5a - (1//8)*b)) / sqrt(d4 + 0.5d1 - (1//16)*d2 - (1//16)*d3)"
      ]
     },
     "metadata": {},
     "output_type": "display_data"
    }
   ],
   "source": [
    "substitute(sqrt(n) * (((1/2) * a - (1/(2*n))*b))/(sqrt((1/2)d1 - (1/(4*n))*d2 - (1/(4*n))*d3 +d4)), Dict([n => 4]))"
   ]
  },
  {
   "cell_type": "code",
   "execution_count": 7,
   "metadata": {},
   "outputs": [],
   "source": []
  }
 ],
 "metadata": {
  "kernelspec": {
   "display_name": "Julia 1.9.0",
   "language": "julia",
   "name": "julia-1.9"
  },
  "language_info": {
   "file_extension": ".jl",
   "mimetype": "application/julia",
   "name": "julia",
   "version": "1.9.0"
  },
  "orig_nbformat": 4
 },
 "nbformat": 4,
 "nbformat_minor": 2
}
