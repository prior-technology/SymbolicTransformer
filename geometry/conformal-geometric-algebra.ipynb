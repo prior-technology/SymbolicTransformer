{
 "cells": [
  {
   "cell_type": "markdown",
   "metadata": {},
   "source": [
    "Investigating use of Conformal Geometric Algebra for analysis of the residual space of a LLM.\n",
    "\n",
    "See [geometric algebra notebook](./geometric-algebra.ipynb) for more general details of geometric algebra and its representation through Grassmann.jl\n"
   ]
  },
  {
   "cell_type": "markdown",
   "metadata": {},
   "source": [
    "# Conformal and Projective Geometric Algebra\n",
    "\n",
    "Conformal Geometric Algebra (CGA) adds two dimensions to the base Euclidean Space allowing more complicated operations on the space to be represented as versors. In the base geometric space versors can describe reflections, and by combining reflections rotations can be described. Although CGA was described first, it extends Projective Geometric Algebra (PGA) which adds a single dimension to the base Euclidean Space.\n",
    "\n",
    "In Euclidean algebra, a point is not the same as a vector. A point represents a location in space, independent of any coordinate system. A vector represents a direction and magnitude, and only specifies a point with respect to an origin and base vectors. Projective Geometric algebra describes how to represent points, lines and planes as elements of the algebra, along with operations on them. The operations supported don't generally preserve angle.\n",
    "\n",
    "Conformal Geometric Algebra extends Projective Geometric Algebra by adding a single dimension to the base Euclidean Space. This allows points, lines and planes to be represented as elements of the algebra, along with circles and spheres. CGA can represent operations that do preserve angle (which is why it is described as conformal).\n",
    "\n"
   ]
  },
  {
   "cell_type": "markdown",
   "metadata": {},
   "source": [
    "# Motivation\n",
    "\n",
    "The structure of LLMs has developed in some part through trial and error, the capabilities of recent models came as a surprise and continue to be explored. Fundamentally, LLMs take a sequence of symbols as input and interpret the patterns based on previous examples to predict subsequent symbols. Symbols are mapped to vectors in a high-dimensional space through embedding tables, and the output frequency distribution through an unembedding matrix.\n",
    "\n",
    "CGA and PGA can act as tools for analysing the calculations performed by LLMs. By focussing on different elements of the model GA may provide a more intuitive representation of the calculations performed.\n",
    "\n",
    "\n",
    "\n"
   ]
  },
  {
   "cell_type": "markdown",
   "metadata": {},
   "source": [
    "# Unembedding\n",
    "\n",
    "Elements of the unembedding matrix are understood as vectors representing specific output tokens. During training loss is calculated based on the cosine similarity between the output vector and the target vector. The gradient drives the input and output vectors towards each other.\n",
    "\n"
   ]
  },
  {
   "cell_type": "markdown",
   "metadata": {},
   "source": [
    "# References\n",
    "\n",
    "https://en.wikipedia.org/wiki/Geometric_algebra\n",
    "https://en.wikipedia.org/wiki/Conformal_geometric_algebra\n",
    "[Gunn, C.G. (2016). Geometric Algebras for Euclidean Geometry](https://arxiv.org/abs/1411.6502)\n",
    "[Gunn, C.G. (2019). Projective geometric algebra: A new framework for doing euclidean geometry](https://www.semanticscholar.org/reader/a5ad0121226c6f96be88fc2f559fe2aceb8558f8)\n"
   ]
  }
 ],
 "metadata": {
  "kernelspec": {
   "display_name": "Julia 1.9.0",
   "language": "julia",
   "name": "julia-1.9"
  },
  "language_info": {
   "file_extension": ".jl",
   "mimetype": "application/julia",
   "name": "julia",
   "version": "1.9.0"
  }
 },
 "nbformat": 4,
 "nbformat_minor": 2
}
