{
 "cells": [
  {
   "attachments": {},
   "cell_type": "markdown",
   "metadata": {},
   "source": [
    "This notebook checks the result below in 4 dimensions\n",
    "$$<c(v), c(v)> = \\frac{N^2 -2N - 1}{N^2}v^2 - \\frac{N-1}{2N^2}v\\vec{1}v\\vec{1} - \\frac{N-1}{2N^2}\\vec{1}v\\vec{1}v + \\frac{1}{4N^2} |v \\vec{1}v\\vec{1}|$$\n",
    "\n"
   ]
  },
  {
   "cell_type": "code",
   "execution_count": 4,
   "metadata": {},
   "outputs": [
    {
     "data": {
      "text/plain": [
       "4-element Vector{Int64}:\n",
       " -40\n",
       " -36\n",
       "  74\n",
       " -49"
      ]
     },
     "metadata": {},
     "output_type": "display_data"
    }
   ],
   "source": [
    "using Grassmann, Random\n",
    "N=4\n",
    "\n",
    "μ(x) = sum(x) / N\n",
    "\n",
    "old_c(x) = x .- μ(x)\n",
    "\n",
    "#Initialise a random v element vector\n",
    "u = Vector{Int}(undef,N)\n",
    "rand!(u,-100:100)"
   ]
  },
  {
   "cell_type": "code",
   "execution_count": 5,
   "metadata": {},
   "outputs": [
    {
     "data": {
      "text/plain": [
       "([-27.25, -23.25, 86.75, -36.25], 10122.75)"
      ]
     },
     "metadata": {},
     "output_type": "display_data"
    }
   ],
   "source": [
    "old_c(u),   old_c(u) ⋅ old_c(u)"
   ]
  },
  {
   "cell_type": "code",
   "execution_count": 6,
   "metadata": {},
   "outputs": [
    {
     "data": {
      "text/plain": [
       "(⟨++++⟩, v, v₁, v₂, v₃, v₄, v₁₂, v₁₃, v₁₄, v₂₃, v₂₄, v₃₄, v₁₂₃, v₁₂₄, v₁₃₄, v₂₃₄, v₁₂₃₄)"
      ]
     },
     "metadata": {},
     "output_type": "display_data"
    }
   ],
   "source": [
    "#use a 4-dimensional positive definite Grassman algebra\n",
    "@basis S\"++++\""
   ]
  },
  {
   "cell_type": "code",
   "execution_count": 7,
   "metadata": {},
   "outputs": [
    {
     "data": {
      "text/plain": [
       "-40v₁ - 36v₂ + 74v₃ - 49v₄"
      ]
     },
     "metadata": {},
     "output_type": "display_data"
    }
   ],
   "source": [
    "ga_u = u[1] * v₁ + u[2] * v₂ + u[3] * v₃ + u[4] * v₄"
   ]
  },
  {
   "cell_type": "code",
   "execution_count": 8,
   "metadata": {},
   "outputs": [
    {
     "data": {
      "text/plain": [
       "1v₁ + 1v₂ + 1v₃ + 1v₄"
      ]
     },
     "metadata": {},
     "output_type": "display_data"
    }
   ],
   "source": [
    "ones = v₁ + v₂ + v₃ + v₄"
   ]
  },
  {
   "cell_type": "code",
   "execution_count": 9,
   "metadata": {},
   "outputs": [
    {
     "data": {
      "text/plain": [
       "-51 + 4v₁₂ + 114v₁₃ - 9v₁₄ + 110v₂₃ - 13v₂₄ - 123v₃₄"
      ]
     },
     "metadata": {},
     "output_type": "display_data"
    }
   ],
   "source": [
    "ones_u = ones * ga_u"
   ]
  },
  {
   "cell_type": "code",
   "execution_count": 10,
   "metadata": {},
   "outputs": [
    {
     "data": {
      "text/plain": [
       "-51 - 4v₁₂ - 114v₁₃ + 9v₁₄ - 110v₂₃ + 13v₂₄ + 123v₃₄"
      ]
     },
     "metadata": {},
     "output_type": "display_data"
    }
   ],
   "source": [
    "u_ones = ga_u * ones"
   ]
  },
  {
   "cell_type": "code",
   "execution_count": 41,
   "metadata": {},
   "outputs": [
    {
     "data": {
      "text/plain": [
       "5071.15625 + 1888.5625v₁₂ + 3569.84375v₁₃ + 1842.5v₁₄ + 1681.28125v₂₃ - 46.0625v₂₄ - 1727.34375v₃₄"
      ]
     },
     "metadata": {},
     "output_type": "display_data"
    }
   ],
   "source": [
    "ga_norm_squared(x) = x * x\n",
    "λ1 * ga_norm_squared(ga_u) + λ2 * ga_norm_squared(ones_u) + λ3 * ga_norm_squared(u_ones)"
   ]
  },
  {
   "attachments": {},
   "cell_type": "markdown",
   "metadata": {},
   "source": [
    "Doesn't match.\n",
    "\n",
    "Check GA definition of c(x)\n",
    "$$c(x) = x - (\\frac{\\vec{1} x + x \\vec{1}}{2N}) \\vec{1}$$"
   ]
  },
  {
   "cell_type": "code",
   "execution_count": 42,
   "metadata": {},
   "outputs": [
    {
     "data": {
      "text/plain": [
       "(-0.0 + 79.25v₁ - 2.75v₂ - 75.75v₃ - 0.75v₄, [79.25, -2.75, -75.75, -0.75])"
      ]
     },
     "metadata": {},
     "output_type": "display_data"
    }
   ],
   "source": [
    "ga_c(x) = x - ((ones * x + x * ones)/(2*N)) * ones\n",
    "\n",
    "ga_c(ga_u), old_c(u)"
   ]
  },
  {
   "attachments": {},
   "cell_type": "markdown",
   "metadata": {},
   "source": [
    "That matches. Now try\n",
    "$$c(v) = v - \\frac{\\vec{1} v \\vec{1} + v \\vec{1} \\vec{1}}{2N}$$"
   ]
  },
  {
   "cell_type": "code",
   "execution_count": 64,
   "metadata": {},
   "outputs": [
    {
     "data": {
      "text/plain": [
       "(-0.0 + 79.25v₁ - 2.75v₂ - 75.75v₃ - 0.75v₄, [79.25, -2.75, -75.75, -0.75])"
      ]
     },
     "metadata": {},
     "output_type": "display_data"
    }
   ],
   "source": [
    "ga_c_2(x) = x - (ones * x * ones + x * ones * ones)/(2*N)\n",
    "\n",
    "ga_c_2(ga_u), old_c(u)"
   ]
  },
  {
   "cell_type": "code",
   "execution_count": 63,
   "metadata": {},
   "outputs": [
    {
     "data": {
      "text/plain": [
       "(12026.75v⃖, 12026.75)"
      ]
     },
     "metadata": {},
     "output_type": "display_data"
    }
   ],
   "source": [
    "ga_c_2(ga_u)^2, old_c(u) ⋅ old_c(u)"
   ]
  },
  {
   "cell_type": "code",
   "execution_count": 66,
   "metadata": {},
   "outputs": [
    {
     "data": {
      "text/plain": [
       "4v⃖"
      ]
     },
     "metadata": {},
     "output_type": "display_data"
    }
   ],
   "source": [
    "ones * ones"
   ]
  },
  {
   "attachments": {},
   "cell_type": "markdown",
   "metadata": {},
   "source": [
    "\n",
    "$$c(v) = v - \\frac{\\vec{1} v \\vec{1}}{2N} - \\frac{v \\vec{1}^2}{2N}  $$\n",
    "$$ = v - \\frac{\\vec{1} v \\vec{1}}{8} - \\frac{4 v}{8} $$\n",
    "$$ = \\frac{1}{2} v - \\frac{1}{8} \\vec{1} v \\vec{1} $$\n"
   ]
  },
  {
   "cell_type": "code",
   "execution_count": 11,
   "metadata": {},
   "outputs": [
    {
     "data": {
      "text/plain": [
       "ga_c_3 (generic function with 1 method)"
      ]
     },
     "metadata": {},
     "output_type": "display_data"
    }
   ],
   "source": [
    "ga_c_3(x) = (1/2) * x - (1/8)*(ones * x * ones)"
   ]
  },
  {
   "cell_type": "code",
   "execution_count": 12,
   "metadata": {},
   "outputs": [
    {
     "data": {
      "text/plain": [
       "(10122.75v⃖, 10122.75)"
      ]
     },
     "metadata": {},
     "output_type": "display_data"
    }
   ],
   "source": [
    "ga_c_3(ga_u)^2, old_c(u) ⋅ old_c(u)"
   ]
  },
  {
   "cell_type": "markdown",
   "metadata": {},
   "source": [
    "Checking \n",
    "$$ c(v) = v - \\frac{1}{2N} \\vec{1} v \\vec{1}  - \\frac{1}{2} v = \\frac{1}{2} v - \\frac{1}{2N} \\vec{1} v \\vec{1} $$\n",
    "$$<c(v), c(v)> = \\frac{1}{4}v^2 - \\frac{1}{4N}v\\vec{1}v\\vec{1} - \\frac{1}{4N}\\vec{1}v\\vec{1}v + \\frac{1}{4N^2} \\vec{1} v \\vec{1} \\vec{1} v \\vec{1}$$\n"
   ]
  },
  {
   "cell_type": "code",
   "execution_count": 23,
   "metadata": {},
   "outputs": [
    {
     "data": {
      "text/plain": [
       "10122.75v⃖"
      ]
     },
     "metadata": {},
     "output_type": "display_data"
    }
   ],
   "source": [
    "(1/4) * (ga_u * ga_u) - (1/16) * (ga_u * ones * ga_u * ones) - (1/16) * (ones * ga_u * ones * ga_u) + (1/64)* (ones * ga_u * ones * ones * ga_u * ones)"
   ]
  },
  {
   "cell_type": "markdown",
   "metadata": {},
   "source": [
    "Checking \n",
    "$$\\vec{1} v \\vec{1} \\vec{1} v \\vec{1} = N \\vec{1} v v \\vec{1} = N |v|^2 \\vec{1}\\vec{1} = N^2 |v|^2$$ \n",
    "\n"
   ]
  },
  {
   "cell_type": "code",
   "execution_count": 17,
   "metadata": {},
   "outputs": [
    {
     "data": {
      "text/plain": [
       "(172368v⃖, 172368v⃖, 172368v⃖, 172368v⃖)"
      ]
     },
     "metadata": {},
     "output_type": "display_data"
    }
   ],
   "source": [
    "(ones * ga_u * ones * ones * ga_u * ones), 4 * (ones * ga_u * ga_u * ones), 4 * ((ga_u * ga_u) * (ones * ones)), 16 * (ga_u * ga_u)"
   ]
  },
  {
   "cell_type": "markdown",
   "metadata": {},
   "source": [
    "$$ <c(v), c(v)> = \\frac{1}{4} |v|^2 - \\frac{1}{4N} |v \\vec{1}|^2 - \\frac{1}{4N} |\\vec{1} v |^2 + \\frac{1}{4} |v|^2 $$\n"
   ]
  },
  {
   "cell_type": "code",
   "execution_count": 24,
   "metadata": {},
   "outputs": [
    {
     "data": {
      "text/plain": [
       "10122.75v⃖"
      ]
     },
     "metadata": {},
     "output_type": "display_data"
    }
   ],
   "source": [
    "(1/4) * ga_u^2 - (1/16) * (u_ones ^2) - (1/16) * (ones_u ^ 2 ) + (1/4) * (ga_u ^2 )"
   ]
  },
  {
   "cell_type": "markdown",
   "metadata": {},
   "source": [
    "$$ = \\frac{1}{2} |v|^2 - \\frac{1}{4N} |v \\vec{1}|^2 - \\frac{1}{4N} |\\vec{1} v |^2  $$"
   ]
  },
  {
   "cell_type": "code",
   "execution_count": 25,
   "metadata": {},
   "outputs": [
    {
     "data": {
      "text/plain": [
       "10122.75v⃖"
      ]
     },
     "metadata": {},
     "output_type": "display_data"
    }
   ],
   "source": [
    "(1/2) * (ga_u * ga_u) - (1/16) * (u_ones * u_ones) - (1/16) * (ones_u * ones_u)"
   ]
  },
  {
   "cell_type": "markdown",
   "metadata": {},
   "source": [
    "Ok"
   ]
  },
  {
   "cell_type": "code",
   "execution_count": 27,
   "metadata": {},
   "outputs": [
    {
     "data": {
      "text/plain": [
       "-37890 + 408v₁₂ + 11628v₁₃ - 918v₁₄ + 11220v₂₃ - 1326v₂₄ - 12546v₃₄"
      ]
     },
     "metadata": {},
     "output_type": "display_data"
    }
   ],
   "source": [
    "u_ones* u_ones"
   ]
  },
  {
   "cell_type": "code",
   "execution_count": 28,
   "metadata": {},
   "outputs": [
    {
     "data": {
      "text/plain": [
       "-51 - 4v₁₂ - 114v₁₃ + 9v₁₄ - 110v₂₃ + 13v₂₄ + 123v₃₄"
      ]
     },
     "metadata": {},
     "output_type": "display_data"
    }
   ],
   "source": [
    "u_ones"
   ]
  },
  {
   "cell_type": "code",
   "execution_count": null,
   "metadata": {},
   "outputs": [],
   "source": []
  }
 ],
 "metadata": {
  "kernelspec": {
   "display_name": "Julia 1.9.0",
   "language": "julia",
   "name": "julia-1.9"
  },
  "language_info": {
   "file_extension": ".jl",
   "mimetype": "application/julia",
   "name": "julia",
   "version": "1.9.0"
  },
  "orig_nbformat": 4
 },
 "nbformat": 4,
 "nbformat_minor": 2
}
