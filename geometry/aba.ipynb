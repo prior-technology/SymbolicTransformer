{
 "cells": [
  {
   "cell_type": "code",
   "execution_count": 2,
   "metadata": {},
   "outputs": [],
   "source": [
    "using Symbolics\n",
    "using Grassmann\n"
   ]
  },
  {
   "cell_type": "code",
   "execution_count": 3,
   "metadata": {},
   "outputs": [
    {
     "data": {
      "text/plain": [
       "(⟨++++⟩, v, v₁, v₂, v₃, v₄, v₁₂, v₁₃, v₁₄, v₂₃, v₂₄, v₃₄, v₁₂₃, v₁₂₄, v₁₃₄, v₂₃₄, v₁₂₃₄)"
      ]
     },
     "metadata": {},
     "output_type": "display_data"
    }
   ],
   "source": [
    "@basis S\"++++\""
   ]
  },
  {
   "cell_type": "code",
   "execution_count": 4,
   "metadata": {},
   "outputs": [
    {
     "data": {
      "text/latex": [
       "$$ \\begin{equation}\n",
       "\\left[\n",
       "\\begin{array}{c}\n",
       "b1 \\\\\n",
       "b2 \\\\\n",
       "b3 \\\\\n",
       "b4 \\\\\n",
       "\\end{array}\n",
       "\\right]\n",
       "\\end{equation}\n",
       " $$"
      ],
      "text/plain": [
       "4-element Vector{Num}:\n",
       " b1\n",
       " b2\n",
       " b3\n",
       " b4"
      ]
     },
     "metadata": {},
     "output_type": "display_data"
    }
   ],
   "source": [
    "@variables a1 a2 a3 a4\n",
    "\n",
    "@variables b1 b2 b3 b4\n",
    "\n"
   ]
  },
  {
   "cell_type": "code",
   "execution_count": 5,
   "metadata": {},
   "outputs": [
    {
     "data": {
      "text/plain": [
       "(a1)v₁ + (a2)v₂ + (a3)v₃ + (a4)v₄"
      ]
     },
     "metadata": {},
     "output_type": "display_data"
    }
   ],
   "source": [
    "a = a1 * v1 + a2 * v2 + a3 * v3 + a4 * v4"
   ]
  },
  {
   "cell_type": "code",
   "execution_count": 6,
   "metadata": {},
   "outputs": [
    {
     "data": {
      "text/plain": [
       "(b1)v₁ + (b2)v₂ + (b3)v₃ + (b4)v₄"
      ]
     },
     "metadata": {},
     "output_type": "display_data"
    }
   ],
   "source": [
    "b = b1 * v1 + b2 * v2 + b3 * v3 + b4 * v4"
   ]
  },
  {
   "cell_type": "code",
   "execution_count": 7,
   "metadata": {},
   "outputs": [
    {
     "data": {
      "text/plain": [
       "0.0 + (a1*(a1*b1 + a2*b2 + a3*b3 + a4*b4) + a2*(a1*b2 - a2*b1) + a3*(a1*b3 - a3*b1) + a4*(a1*b4 - a4*b1))v₁ + (a2*(a1*b1 + a2*b2 + a3*b3 + a4*b4) + a3*(a2*b3 - a3*b2) + a4*(a2*b4 - a4*b2) - a1*(a1*b2 - a2*b1))v₂ + (a4*(a3*b4 - a4*b3) + a3*(a1*b1 + a2*b2 + a3*b3 + a4*b4) - a1*(a1*b3 - a3*b1) - a2*(a2*b3 - a3*b2))v₃ + (a4*(a1*b1 + a2*b2 + a3*b3 + a4*b4) - a1*(a1*b4 - a4*b1) - a2*(a2*b4 - a4*b2) - a3*(a3*b4 - a4*b3))v₄"
      ]
     },
     "metadata": {},
     "output_type": "display_data"
    }
   ],
   "source": [
    "a * b * a"
   ]
  },
  {
   "cell_type": "code",
   "execution_count": 8,
   "metadata": {},
   "outputs": [
    {
     "data": {
      "text/plain": [
       "0.0 + (a1*(a1*b1 + a2*b2 + a3*b3 + a4*b4) - a2*(a2*b1 - a1*b2) - a3*(a3*b1 - a1*b3) - a4*(a4*b1 - a1*b4))v₁ + (a1*(a2*b1 - a1*b2) + a2*(a1*b1 + a2*b2 + a3*b3 + a4*b4) - a3*(a3*b2 - a2*b3) - a4*(a4*b2 - a2*b4))v₂ + (a1*(a3*b1 - a1*b3) + a2*(a3*b2 - a2*b3) + a3*(a1*b1 + a2*b2 + a3*b3 + a4*b4) - a4*(a4*b3 - a3*b4))v₃ + (a1*(a4*b1 - a1*b4) + a2*(a4*b2 - a2*b4) + a3*(a4*b3 - a3*b4) + a4*(a1*b1 + a2*b2 + a3*b3 + a4*b4))v₄"
      ]
     },
     "metadata": {},
     "output_type": "display_data"
    }
   ],
   "source": [
    "a * ( b * a )\n"
   ]
  },
  {
   "cell_type": "code",
   "execution_count": 9,
   "metadata": {},
   "outputs": [
    {
     "data": {
      "text/plain": [
       "0.0 + (a1*(a1*b1 + a2*b2 + a3*b3 + a4*b4) + a2*(a1*b2 - a2*b1) + a3*(a1*b3 - a3*b1) + a4*(a1*b4 - a4*b1))v₁ + (a2*(a1*b1 + a2*b2 + a3*b3 + a4*b4) + a3*(a2*b3 - a3*b2) + a4*(a2*b4 - a4*b2) - a1*(a1*b2 - a2*b1))v₂ + (a4*(a3*b4 - a4*b3) + a3*(a1*b1 + a2*b2 + a3*b3 + a4*b4) - a1*(a1*b3 - a3*b1) - a2*(a2*b3 - a3*b2))v₃ + (a4*(a1*b1 + a2*b2 + a3*b3 + a4*b4) - a1*(a1*b4 - a4*b1) - a2*(a2*b4 - a4*b2) - a3*(a3*b4 - a4*b3))v₄"
      ]
     },
     "metadata": {},
     "output_type": "display_data"
    }
   ],
   "source": [
    "( a * b ) * a"
   ]
  },
  {
   "cell_type": "code",
   "execution_count": 10,
   "metadata": {},
   "outputs": [
    {
     "data": {
      "text/plain": [
       "0.0 + (2b2 + 2b3 + 2b4 - 2b1)v₁ + (2b1 + 2b3 + 2b4 - 2b2)v₂ + (2b1 + 2b2 + 2b4 - 2b3)v₃ + (2b1 + 2b2 + 2b3 - 2b4)v₄"
      ]
     },
     "metadata": {},
     "output_type": "display_data"
    }
   ],
   "source": [
    "ones = v1 +  v2 + v3 + v4\n",
    "\n",
    "ones * b * ones"
   ]
  },
  {
   "cell_type": "markdown",
   "metadata": {},
   "source": [
    "$$a b a = a (b a) = a \\rfloor (b a) + a \\wedge (b a)$$\n",
    "$$ a \\rfloor (b a) = a \\rfloor (b \\rfloor a + b \\wedge a) $$\n",
    "( based on http://www.iancgbell.clara.net/maths/geoalg1.htm#A31 the contractive inner product (aka. Lounesto inner product) $\\rfloor$ is not distributive)\n",
    "$$ a \\wedge (b a) = a \\wedge (b \\rfloor a + b \\wedge a) = a \\wedge (b \\rfloor a) + a \\wedge (b \\wedge a) = a \\wedge (b \\rfloor a) $$"
   ]
  },
  {
   "cell_type": "code",
   "execution_count": 16,
   "metadata": {},
   "outputs": [
    {
     "data": {
      "text/plain": [
       "𝟎"
      ]
     },
     "metadata": {},
     "output_type": "display_data"
    }
   ],
   "source": [
    "b ∨ ones"
   ]
  },
  {
   "cell_type": "code",
   "execution_count": null,
   "metadata": {},
   "outputs": [],
   "source": []
  }
 ],
 "metadata": {
  "kernelspec": {
   "display_name": "Julia 1.9.0",
   "language": "julia",
   "name": "julia-1.9"
  },
  "language_info": {
   "file_extension": ".jl",
   "mimetype": "application/julia",
   "name": "julia",
   "version": "1.9.0"
  },
  "orig_nbformat": 4
 },
 "nbformat": 4,
 "nbformat_minor": 2
}
